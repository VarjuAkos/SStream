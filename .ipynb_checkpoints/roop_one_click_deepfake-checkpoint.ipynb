{
 "cells": [
  {
   "cell_type": "markdown",
   "metadata": {
    "id": "D3L8Lkyj-5gl"
   },
   "source": [
    "#Clone roop repo and install dependencies"
   ]
  },
  {
   "cell_type": "code",
   "execution_count": 2,
   "metadata": {
    "colab": {
     "base_uri": "https://localhost:8080/",
     "height": 1000
    },
    "id": "0aHr4Fo-7IRy",
    "outputId": "2d463ca1-c628-48c9-cc6e-dde2c5df6c8a"
   },
   "outputs": [
    {
     "name": "stdout",
     "output_type": "stream",
     "text": [
      "C:\\Work\\deepFake\\CollabRoop\\roop\\roop\n"
     ]
    },
    {
     "name": "stderr",
     "output_type": "stream",
     "text": [
      "fatal: destination path 'roop' already exists and is not an empty directory.\n",
      "Traceback (most recent call last):\n",
      "  File \"<frozen runpy>\", line 189, in _run_module_as_main\n",
      "  File \"<frozen runpy>\", line 148, in _get_module_details\n",
      "  File \"<frozen runpy>\", line 112, in _get_module_details\n",
      "  File \"C:\\Program Files\\WindowsApps\\PythonSoftwareFoundation.Python.3.11_3.11.2032.0_x64__qbz5n2kfra8p0\\Lib\\site-packages\\pip\\__init__.py\", line 1, in <module>\n",
      "    from typing import List, Optional\n",
      "  File \"C:\\Work\\deepFake\\CollabRoop\\roop\\roop\\typing.py\", line 1, in <module>\n",
      "    from typing import Any\n",
      "ImportError: cannot import name 'Any' from partially initialized module 'typing' (most likely due to a circular import) (C:\\Work\\deepFake\\CollabRoop\\roop\\roop\\typing.py)\n"
     ]
    }
   ],
   "source": [
    "!git clone https://github.com/s0md3v/roop.git\n",
    "%cd roop\n",
    "!pip install -r requirements.txt"
   ]
  },
  {
   "cell_type": "markdown",
   "metadata": {
    "id": "jl9zIFZYGWTQ"
   },
   "source": [
    "#download model"
   ]
  },
  {
   "cell_type": "code",
   "execution_count": 3,
   "metadata": {
    "colab": {
     "base_uri": "https://localhost:8080/"
    },
    "id": "UQH2exUYGTbK",
    "outputId": "ccc0c9d1-fdb1-4baa-8159-3861a53fad36"
   },
   "outputs": [
    {
     "name": "stderr",
     "output_type": "stream",
     "text": [
      "'wget' is not recognized as an internal or external command,\n",
      "operable program or batch file.\n",
      "'mv' is not recognized as an internal or external command,\n",
      "operable program or batch file.\n"
     ]
    }
   ],
   "source": [
    "!wget https://huggingface.co/ezioruan/inswapper_128.onnx/resolve/main/inswapper_128.onnx -O inswapper_128.onnx\n",
    "!mkdir models\n",
    "!mv inswapper_128.onnx ./models"
   ]
  },
  {
   "cell_type": "markdown",
   "metadata": {
    "id": "nCKli1C-_EaO"
   },
   "source": [
    "#Deepfake"
   ]
  },
  {
   "cell_type": "code",
   "execution_count": null,
   "metadata": {
    "colab": {
     "base_uri": "https://localhost:8080/"
    },
    "id": "lDYdfL3L71i1",
    "outputId": "d02450f0-387b-486a-a44d-bc79f215f7c7"
   },
   "outputs": [
    {
     "name": "stdout",
     "output_type": "stream",
     "text": [
      "Downloading: 332MB [00:02, 125MB/s]               \n",
      "[ROOP.FACE-SWAPPER] Select an image for source path.\n"
     ]
    }
   ],
   "source": [
    "!python run.py --target /content/video.mp4 --output-video-quality 80 --source /content/image.jpeg -o /content/swapped.mp4 --execution-provider cuda --frame-processor face_swapper face_enhancer"
   ]
  },
  {
   "cell_type": "code",
   "execution_count": null,
   "metadata": {
    "id": "dB-yigWx8zht"
   },
   "outputs": [],
   "source": []
  }
 ],
 "metadata": {
  "accelerator": "GPU",
  "colab": {
   "provenance": [],
   "toc_visible": true
  },
  "kernelspec": {
   "display_name": "Python 3 (ipykernel)",
   "language": "python",
   "name": "python3"
  },
  "language_info": {
   "codemirror_mode": {
    "name": "ipython",
    "version": 3
   },
   "file_extension": ".py",
   "mimetype": "text/x-python",
   "name": "python",
   "nbconvert_exporter": "python",
   "pygments_lexer": "ipython3",
   "version": "3.11.5"
  }
 },
 "nbformat": 4,
 "nbformat_minor": 4
}
